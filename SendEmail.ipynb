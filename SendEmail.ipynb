{
 "cells": [
  {
   "cell_type": "code",
   "execution_count": 1,
   "metadata": {},
   "outputs": [],
   "source": [
    "from string import Template\n",
    "\n",
    "# import the smtplib module. It should be included in Python by default\n",
    "import smtplib\n",
    "\n",
    "# import necessary packages for MIME\n",
    "from email.mime.multipart import MIMEMultipart\n",
    "from email.mime.text import MIMEText"
   ]
  },
  {
   "cell_type": "code",
   "execution_count": 2,
   "metadata": {},
   "outputs": [],
   "source": [
    "#Global field declaration\n",
    "smtp_host = 'smtp.gmail.com'\n",
    "smtp_port = 25\n",
    "team_foodie_email = 'FoodieHimAmar@gmail.com'\n",
    "team_foodie_pwd = 'HimAmar@007'\n",
    "email_subject = 'List of top 5 restaurants for your hunger'\n",
    "msg_success = 'Mail sent to the email. Have a good day.'\n",
    "msg_failure = 'Sorry,  we are unable to send the mail. Please try again in sometime.'"
   ]
  },
  {
   "cell_type": "code",
   "execution_count": 3,
   "metadata": {},
   "outputs": [],
   "source": [
    "def set_up_email_server(cust_email):\n",
    "# set up the SMTP server\n",
    "    smtp_server = smtplib.SMTP(host= smtp_host, port=smtp_port)\n",
    "    smtp_server.starttls()\n",
    "    smtp_server.login(team_foodie_email, team_foodie_pwd)\n",
    "    return smtp_server"
   ]
  },
  {
   "cell_type": "code",
   "execution_count": 4,
   "metadata": {},
   "outputs": [],
   "source": [
    "def trigger_email(smtp_server, cust_email, message):\n",
    "    \n",
    "    msg = MIMEMultipart()       # create a message\n",
    "    \n",
    "    # setup the parameters of the message\n",
    "    msg['From']= team_foodie_email\n",
    "    msg['To']= cust_email\n",
    "    msg['Subject']= email_subject\n",
    "    \n",
    "    # add in the message body\n",
    "    msg.attach(MIMEText(message, 'plain'))\n",
    "    \n",
    "    smtp_server.send_message(msg)\n",
    "    del msg"
   ]
  },
  {
   "cell_type": "code",
   "execution_count": 5,
   "metadata": {},
   "outputs": [],
   "source": [
    "def close_email_server_connection(smtp_server):\n",
    "    smtp_server.quit()"
   ]
  },
  {
   "cell_type": "code",
   "execution_count": 6,
   "metadata": {},
   "outputs": [],
   "source": [
    "def prepare_message(cust_name, restaurants):\n",
    "    greet_template = Template('Dear ${Customer},\\n\\n')\n",
    "    rest_template = Template('${restaurant_name} in ${restaurant_address} has been rated ${rating}.\\n')\n",
    "    messages = []\n",
    "    messages = greet_template.substitute(Customer = cust_name)\n",
    "    for rest in restaurants:\n",
    "        messages.append(rest_template.substitute(restaurant_name = rest[restaurant_name], \n",
    "                                                 restaurant_address = rest[restaurant_address], rating = rest[rating]))\n",
    "    messages.append('\\nKind Regards,\\nTeam Foodie')\n",
    "    final_messgae = ''.join(messages)\n",
    "    \n",
    "    return final_message"
   ]
  },
  {
   "cell_type": "code",
   "execution_count": 7,
   "metadata": {},
   "outputs": [],
   "source": [
    "def send_email(cust_name, cust_email, restaurants):\n",
    "\n",
    "    final_message = prepare_message(cust_name, restaurants)\n",
    "    \n",
    "    try:\n",
    "        smtp_server = set_up_email_server(cust_email)\n",
    "    except:\n",
    "        return msg_failure\n",
    "    \n",
    "    try:\n",
    "        trigger_email(smtp_server, cust_email, final_message)\n",
    "    except:\n",
    "        return msg_failure\n",
    "    \n",
    "    close_email_server_connection(smtp_server)\n",
    "\n",
    "    return msg_success\n",
    "    \n",
    "        "
   ]
  }
 ],
 "metadata": {
  "kernelspec": {
   "display_name": "Python 3",
   "language": "python",
   "name": "python3"
  },
  "language_info": {
   "codemirror_mode": {
    "name": "ipython",
    "version": 3
   },
   "file_extension": ".py",
   "mimetype": "text/x-python",
   "name": "python",
   "nbconvert_exporter": "python",
   "pygments_lexer": "ipython3",
   "version": "3.7.4"
  }
 },
 "nbformat": 4,
 "nbformat_minor": 2
}
